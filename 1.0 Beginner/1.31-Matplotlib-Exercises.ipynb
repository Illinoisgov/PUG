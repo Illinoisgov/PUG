{
 "cells": [
  {
   "cell_type": "markdown",
   "metadata": {},
   "source": [
    "# Intro to Matplotlib\n",
    "Exercises based on DataCamp's Intermediate Python for Data Science course \n",
    "https://www.datacamp.com/courses/intermediate-python-for-data-science"
   ]
  },
  {
   "cell_type": "markdown",
   "metadata": {},
   "source": [
    "## Table of Contents\n",
    "1. [Create a line plot](#Exercise-1)\n",
    "2. [Bad line plot example](#Exercise-2)\n",
    "3. [Scatter plot](#Exercise-3)\n",
    "4. [Scatter plot with better data](#Exercise-4)\n",
    "5. [Histogram](#Exercise-5)\n",
    "6. [Histogram and bins](#Exercise-6)\n",
    "7. [Histogram to compare two datasets](#Exercise-7)\n",
    "8. [Labels and title](#Exercise-8)\n",
    "9. [Ticks](#Exercise-9)\n",
    "10. [Sizes](#Exercise-10)\n",
    "11. [Colors](#Exercise-11)\n",
    "12. [Additional Customization](#Exercise-12)"
   ]
  },
  {
   "cell_type": "markdown",
   "metadata": {},
   "source": [
    "## Exercise 1\n",
    "- Back to [Table of Contents](#Table-of-Contents)\n",
    "- **print()** the last item from both the **year** and the **pop** list to see what the predicted population for the year 2100 is. Use two **print()** functions. \n",
    "\n",
    "- Before you can start, you should import **matplotlib.pyplot** as **plt**. **pyplot** is a sub-package of **matplotlib**, hence the dot. \n",
    "\n",
    "- Use **plt.plot()** to build a line plot. **year** should be mapped on the horizontal axis, **pop** on the vertical axis. Don't forget to finish off with the **plt.show()** function to actually display the plot. \n",
    "\n",
    "**Note: remember you can use shift+tab on methods in order to read the docstring**"
   ]
  },
  {
   "cell_type": "code",
   "execution_count": 1,
   "metadata": {
    "collapsed": true
   },
   "outputs": [],
   "source": [
    "# Import matplotlib.pyplot as plt \n",
    "import matplotlib.pyplot as plt\n",
    "\n",
    "# note jupyter displays pyplot without needed the below inline code\n",
    "#%matplotlib inline <--- leave this commented out"
   ]
  },
  {
   "cell_type": "code",
   "execution_count": null,
   "metadata": {
    "collapsed": true
   },
   "outputs": [],
   "source": [
    "# populate list\n",
    "year = [1950,1970,1990,2010]\n",
    "pop = [2.519,3.692,5.263,6.972]"
   ]
  },
  {
   "cell_type": "code",
   "execution_count": null,
   "metadata": {
    "collapsed": true
   },
   "outputs": [],
   "source": [
    "# Print the last item from year and pop \n",
    "\n",
    "\n",
    "# Make a line plot: year on the x-axis, pop on the y-axis \n",
    "\n",
    "\n",
    "# Display the plot with plt.show() \n"
   ]
  },
  {
   "cell_type": "markdown",
   "metadata": {},
   "source": [
    "### Expected output\n",
    "![Expected output](../data/MatplotlibImages/1.11-exercise1.png)"
   ]
  },
  {
   "cell_type": "markdown",
   "metadata": {},
   "source": [
    "## Exercise 2\n",
    "- Back to [Table of Contents](#Table-of-Contents)  \n",
    "- Print the last item from both the list **gdp_cap**, and the list **life_exp**; it is information about Zimbabwe. \n",
    "- Build a line chart, with **gdp_cap** on the x-axis, and **life_exp** on the y-axis. Does it make sense to plot this data on a line plot? \n",
    "- Don't forget to finish off with a **plt.show()** command, to actually display the plot. "
   ]
  },
  {
   "cell_type": "code",
   "execution_count": null,
   "metadata": {
    "collapsed": true
   },
   "outputs": [],
   "source": [
    "import pandas as pd\n",
    "\n",
    "# read csv data to dataframe\n",
    "df = pd.read_csv(\"../data/gapminder.csv\")\n",
    "\n",
    "# add life_exp data to list life_exp\n",
    "life_exp = df['life_exp'].values.tolist()\n",
    "\n",
    "# add gdp_cap data to list gdp_cap\n",
    "gdp_cap = df['gdp_cap'].values.tolist()\n",
    "\n",
    "# add population to list pop\n",
    "pop = df['population'].values.tolist()"
   ]
  },
  {
   "cell_type": "code",
   "execution_count": null,
   "metadata": {
    "collapsed": true,
    "scrolled": true
   },
   "outputs": [],
   "source": [
    "# Print the last item of gdp_cap and life_exp \n",
    "\n",
    "  \n",
    "# Make a line plot, gdp_cap on the x-axis, life_exp on the y-axis \n",
    "\n",
    "\n",
    "# Display the plot \n"
   ]
  },
  {
   "cell_type": "markdown",
   "metadata": {},
   "source": [
    "### Expected output\n",
    "![Expected output](../data/MatplotlibImages/1.11-exercise2.png)"
   ]
  },
  {
   "cell_type": "markdown",
   "metadata": {},
   "source": [
    "## Exercise 3\n",
    "- Back to [Table of Contents](#Table-of-Contents)  \n",
    "- Change the line plot that's coded in the script to a scatter plot. \n",
    "- A correlation will become clear when you display the GDP per capita on a logarithmic scale. Add the line **plt.xscale('log')**. \n",
    "- Finish off your script with **plt.show()** to display the plot. "
   ]
  },
  {
   "cell_type": "code",
   "execution_count": null,
   "metadata": {
    "collapsed": true,
    "scrolled": true
   },
   "outputs": [],
   "source": [
    "# Change the line plot below to a scatter plot \n",
    "plt.plot(gdp_cap, life_exp) \n",
    "\n",
    "\n",
    "# Put the x-axis on a logarithmic scale \n",
    "\n",
    "\n",
    "# Show plot \n"
   ]
  },
  {
   "cell_type": "markdown",
   "metadata": {},
   "source": [
    "## Expected output\n",
    "![Expected output](../data/MatplotlibImages/1.11-exercise3.png)"
   ]
  },
  {
   "cell_type": "markdown",
   "metadata": {},
   "source": [
    "## Exercise 4\n",
    "- Back to [Table of Contents](#Table-of-Contents)  \n",
    "- Build a scatter plot, where **pop** is mapped on the horizontal axis, and **life_exp** is mapped on the vertical axis. \n",
    "- Finish the script with **plt.show()** to actually display the plot. Do you see a correlation? "
   ]
  },
  {
   "cell_type": "code",
   "execution_count": null,
   "metadata": {
    "collapsed": true,
    "scrolled": false
   },
   "outputs": [],
   "source": [
    "# Build Scatter plot \n",
    "\n",
    "\n",
    "# Show plot \n"
   ]
  },
  {
   "cell_type": "markdown",
   "metadata": {},
   "source": [
    "### Expected output\n",
    "![Expected output](../data/MatplotlibImages/1.11-exercise4.png)"
   ]
  },
  {
   "cell_type": "markdown",
   "metadata": {},
   "source": [
    "## Exercise 5\n",
    "- Back to [Table of Contents](#Table-of-Contents)    \n",
    "- Use **plt.hist()** to create a histogram of the values in **life_exp**. Do not specify the number of bins; Python will set the number of bins to 10 by default for you. \n",
    "- Add **plt.show()** to actually display the histogram. Can you tell which bin contains the most observations?"
   ]
  },
  {
   "cell_type": "code",
   "execution_count": null,
   "metadata": {
    "collapsed": true,
    "scrolled": true
   },
   "outputs": [],
   "source": [
    "# Create histogram of life_exp data \n",
    "\n",
    "\n",
    "# Display histogram \n"
   ]
  },
  {
   "cell_type": "markdown",
   "metadata": {},
   "source": [
    "### Expected output\n",
    "![Expected output](../data/MatplotlibImages/1.11-exercise5.png)"
   ]
  },
  {
   "cell_type": "markdown",
   "metadata": {},
   "source": [
    "## Exercise 6\n",
    "- Back to [Table of Contents](#Table-of-Contents)    \n",
    "- Build a histogram of **life_exp**, with 5 bins. Can you tell which bin contains the most observations? Hint use bins=5 as an agrument\n",
    "- Build another histogram of **life_exp**, this time with 20 bins. Is this better? \n",
    "- use **plt.clf()** after your first **plt.show()** statement in order to clear the current figure"
   ]
  },
  {
   "cell_type": "code",
   "execution_count": null,
   "metadata": {
    "collapsed": true,
    "scrolled": false
   },
   "outputs": [],
   "source": [
    "# Build histogram with 5 bins \n",
    "\n",
    "\n",
    "# Show and clean up plot \n",
    "\n",
    "\n",
    "# Build histogram with 20 bins \n",
    "\n",
    "\n",
    "# Show and clean up again \n"
   ]
  },
  {
   "cell_type": "markdown",
   "metadata": {},
   "source": [
    "### Expected output\n",
    "![1](../data/MatplotlibImages/1.11-exercise6-1.png)\n",
    "![2](../data/MatplotlibImages/1.11-exercise6-2.png)"
   ]
  },
  {
   "cell_type": "markdown",
   "metadata": {},
   "source": [
    "## Exercise 7\n",
    "- Back to [Table of Contents](#Table-of-Contents)    \n",
    "- Build a histogram of **life_exp** with 15 bins. Add title \"2007\" with **plt.title()**\n",
    "- Build a histogram of **life_exp1960**, also with 15 bins. Is there a big difference with the histogram for the 2007 data? Add title \"1960\""
   ]
  },
  {
   "cell_type": "code",
   "execution_count": null,
   "metadata": {
    "collapsed": true
   },
   "outputs": [],
   "source": [
    "# import data\n",
    "df1 = pd.read_csv(\"../data/life-expectancy-1960to2015.csv\",usecols=[\"1960\"]).dropna()\n",
    "life_exp1960 = df1['1960'].values.tolist()"
   ]
  },
  {
   "cell_type": "code",
   "execution_count": null,
   "metadata": {
    "collapsed": true,
    "scrolled": false
   },
   "outputs": [],
   "source": [
    "# Histogram of life_exp, 15 bins \n",
    "\n",
    "\n",
    "# Show and clear plot \n",
    "\n",
    "\n",
    "# Histogram of life_exp1950, 15 bins \n",
    "\n",
    "\n",
    "# Show and clear plot again \n"
   ]
  },
  {
   "cell_type": "markdown",
   "metadata": {},
   "source": [
    "### Expected output\n",
    "![1](../data/MatplotlibImages/1.11-exercise7-1.png)\n",
    "![2](../data/MatplotlibImages/1.11-exercise7-2.png)"
   ]
  },
  {
   "cell_type": "markdown",
   "metadata": {},
   "source": [
    "## Exercise 8\n",
    "- Back to [Table of Contents](#Table-of-Contents) \n",
    "- The strings **xlab** and **ylab** are already set for you. Use these variables to set the label of the x- and y-axis. \n",
    "- The string **title** is also coded for you. Use it to add a title to the plot. \n",
    "- After these customizations, finish the script with **plt.show()** to actually display the plot. "
   ]
  },
  {
   "cell_type": "code",
   "execution_count": null,
   "metadata": {
    "collapsed": true,
    "scrolled": true
   },
   "outputs": [],
   "source": [
    "# Basic scatter plot, log scale \n",
    "\n",
    "# Strings \n",
    "xlab = 'GDP per Capita [in USD]' \n",
    "ylab = 'Life Expectancy [in years]' \n",
    "title = 'World Development in 2007' \n",
    "\n",
    "# Add axis labels \n",
    "\n",
    "\n",
    "# Add title \n",
    "\n",
    "\n",
    "# After customizing, display the plot \n"
   ]
  },
  {
   "cell_type": "markdown",
   "metadata": {},
   "source": [
    "### Expected output\n",
    "![1](../data/MatplotlibImages/1.11-exercise8.png)"
   ]
  },
  {
   "cell_type": "markdown",
   "metadata": {},
   "source": [
    "## Exercise 9\n",
    "- Back to [Table of Contents](#Table-of-Contents) \n",
    "- Use **tick_val** and **tick_lab** as inputs to the **xticks()** function to make the the plot more readable. \n",
    "- As usual, display the plot with **plt.show()** after you've added the customizations. "
   ]
  },
  {
   "cell_type": "code",
   "execution_count": null,
   "metadata": {
    "collapsed": true,
    "scrolled": true
   },
   "outputs": [],
   "source": [
    "# Scatter plot \n",
    "plt.scatter(gdp_cap, life_exp) \n",
    "\n",
    "# Previous customizations \n",
    "plt.xscale('log')  \n",
    "plt.xlabel('GDP per Capita [in USD]') \n",
    "plt.ylabel('Life Expectancy [in years]') \n",
    "plt.title('World Development in 2007') \n",
    "\n",
    "# Definition of tick_val and tick_lab \n",
    "tick_val = [1000,10000,100000] \n",
    "tick_lab = ['1k','10k','100k'] \n",
    "\n",
    "# Adapt the ticks on the x-axis \n",
    "\n",
    "\n",
    "# After customizing, display the plot \n"
   ]
  },
  {
   "cell_type": "markdown",
   "metadata": {},
   "source": [
    "### Expected output\n",
    "![1](../data/MatplotlibImages/1.11-exercise9.png)"
   ]
  },
  {
   "cell_type": "markdown",
   "metadata": {},
   "source": [
    "## Exercise 10\n",
    "- Back to [Table of Contents](#Table-of-Contents)  \n",
    "In this exercise we are going to scale the size of the blue dots according to the population of each country.  However, before we do that we need to take a look at the data in pop, gdp_cap, and life_exp"
   ]
  },
  {
   "cell_type": "code",
   "execution_count": null,
   "metadata": {
    "collapsed": true
   },
   "outputs": [],
   "source": [
    "# print out the first 5 values of each list\n",
    "print(pop[0:5])\n",
    "print(gdp_cap[0:5])\n",
    "print(life_exp[0:5])"
   ]
  },
  {
   "cell_type": "markdown",
   "metadata": {},
   "source": [
    "The values in the pop list are out-of-scale compared to gdp_cap and life_exp.  If we use the current list without adjusting it, then we would see one blue block because the size is so large.  See for yourself..."
   ]
  },
  {
   "cell_type": "code",
   "execution_count": null,
   "metadata": {
    "collapsed": true
   },
   "outputs": [],
   "source": [
    "# Import numpy as np \n",
    "import numpy as np \n",
    "\n",
    "# Store pop as a numpy array: np_pop\n",
    "np_pop = np.array(pop)\n",
    "\n",
    "# Update: set s argument to np_pop \n",
    "plt.scatter(gdp_cap, life_exp, s=np_pop) \n",
    "\n",
    "# Previous customizations \n",
    "plt.xscale('log')  \n",
    "plt.xlabel('GDP per Capita [in USD]') \n",
    "plt.ylabel('Life Expectancy [in years]') \n",
    "plt.title('World Development in 2007') \n",
    "plt.xticks([1000, 10000, 100000],['1k', '10k', '100k']) \n",
    "\n",
    "# Display the plot \n",
    "plt.show()"
   ]
  },
  {
   "cell_type": "markdown",
   "metadata": {},
   "source": [
    "When we create the np_pop array let's divide by 1000000 to get the values in scale with the x and y axis values\n",
    "- Use `np.array()` to create a numpy array from the list `pop`. Call this Numpy array `np_pop`.\n",
    "- Divide the values in `np_pop` by 1000000. Because `np_pop` is a Numpy array, each array element will be divided.\n",
    "- Change the s argument inside **plt.scatter()** to be `np_pop` instead of `pop`."
   ]
  },
  {
   "cell_type": "code",
   "execution_count": null,
   "metadata": {
    "collapsed": true,
    "scrolled": true
   },
   "outputs": [],
   "source": [
    "# Store pop as a numpy array: np_pop divide by 1000000\n",
    "\n",
    "\n",
    "# Update: set s argument to np_pop \n",
    "\n",
    "\n",
    "# Previous customizations \n",
    "plt.xscale('log')  \n",
    "plt.xlabel('GDP per Capita [in USD]') \n",
    "plt.ylabel('Life Expectancy [in years]') \n",
    "plt.title('World Development in 2007') \n",
    "plt.xticks([1000, 10000, 100000],['1k', '10k', '100k']) \n",
    "\n",
    "# Display the plot \n"
   ]
  },
  {
   "cell_type": "markdown",
   "metadata": {},
   "source": [
    "This looks better now, however, we can make the size of the bubbles pop a little more.  Let's multiply np_pop by 2"
   ]
  },
  {
   "cell_type": "markdown",
   "metadata": {},
   "source": [
    "### Expected output\n",
    "![1](../data/MatplotlibImages/1.11-exercise10.png)"
   ]
  },
  {
   "cell_type": "code",
   "execution_count": null,
   "metadata": {
    "collapsed": true
   },
   "outputs": [],
   "source": [
    "# Multiply np_pop by 2: assign to np_pop2\n",
    "\n",
    "\n",
    "# Update: set s argument to np_pop2 \n",
    "\n",
    "\n",
    "# Previous customizations \n",
    "plt.xscale('log')  \n",
    "plt.xlabel('GDP per Capita [in USD]') \n",
    "plt.ylabel('Life Expectancy [in years]') \n",
    "plt.title('World Development in 2007') \n",
    "plt.xticks([1000, 10000, 100000],['1k', '10k', '100k']) \n",
    "\n",
    "# Display the plot \n"
   ]
  },
  {
   "cell_type": "markdown",
   "metadata": {},
   "source": [
    "### Expected output\n",
    "![1](../data/MatplotlibImages/1.11-exercise10-2.png)"
   ]
  },
  {
   "cell_type": "markdown",
   "metadata": {},
   "source": [
    "## Exercise 11\n",
    "- Back to [Table of Contents](#Table-of-Contents)  \n",
    "\n",
    "- Increase the size of the scatter plot by using `rcParams`\n",
    "- Add `c = col` to the arguments of the **plt.scatter()** function. \n",
    "- Change the opacity of the bubbles by setting the `alpha` argument to `0.5` inside **plt.scatter()**. Alpha can be set from zero to one, where zero is totally transparent, and one is not at all transparent."
   ]
  },
  {
   "cell_type": "markdown",
   "metadata": {},
   "source": [
    "Run this cell to create the col list we will use to assign a color to each country"
   ]
  },
  {
   "cell_type": "code",
   "execution_count": null,
   "metadata": {
    "collapsed": true
   },
   "outputs": [],
   "source": [
    "# create a color for each country in a dictionary - this material will be covered at a later date\n",
    "dict = { \n",
    "    'Asia':'red', \n",
    "    'Europe':'green', \n",
    "    'Africa':'blue', \n",
    "    'Americas':'yellow', \n",
    "    'Oceania':'black' \n",
    "}\n",
    "\n",
    "# assign the following colors based on country to the dataframe\n",
    "df['colors'] = df['cont'].map(dict)\n",
    "\n",
    "# create a list from colors\n",
    "col = df['colors'].values.tolist()"
   ]
  },
  {
   "cell_type": "code",
   "execution_count": null,
   "metadata": {
    "collapsed": true
   },
   "outputs": [],
   "source": [
    "# resize the image with ...\n",
    "plt.rcParams['figure.figsize'] = (10,6)"
   ]
  },
  {
   "cell_type": "code",
   "execution_count": null,
   "metadata": {
    "collapsed": true
   },
   "outputs": [],
   "source": [
    "# Specify c and alpha inside plt.scatter() \n",
    "\n",
    "\n",
    "# Previous customizations \n",
    "plt.xscale('log')  \n",
    "plt.xlabel('GDP per Capita [in USD]') \n",
    "plt.ylabel('Life Expectancy [in years]') \n",
    "plt.title('World Development in 2007') \n",
    "plt.xticks([1000,10000,100000], ['1k','10k','100k']) \n",
    "                           \n",
    "# Show the plot \n"
   ]
  },
  {
   "cell_type": "markdown",
   "metadata": {},
   "source": [
    "### Expected output\n",
    "![1](../data/MatplotlibImages/1.11-exercise11.png)"
   ]
  },
  {
   "cell_type": "markdown",
   "metadata": {},
   "source": [
    "## Exercise 12\n",
    "- Back to [Table of Contents](#Table-of-Contents) \n",
    "- Use %matplotlib notebook to increase functionality of the scatter plot\n",
    "- Add **plt.grid(True)** after the **plt.text()** calls so that gridlines are drawn on the plot. "
   ]
  },
  {
   "cell_type": "code",
   "execution_count": null,
   "metadata": {
    "collapsed": true
   },
   "outputs": [],
   "source": [
    "# %matloplib notebook\n",
    "%matplotlib notebook\n",
    "\n",
    "# resize the image with ...\n",
    "plt.rcParams['figure.figsize'] = (10,6)"
   ]
  },
  {
   "cell_type": "code",
   "execution_count": null,
   "metadata": {
    "collapsed": true,
    "scrolled": false
   },
   "outputs": [],
   "source": [
    "# Scatter plot \n",
    "\n",
    "\n",
    "# Previous customizations \n",
    "plt.xscale('log')  \n",
    "plt.xlabel('GDP per Capita [in USD]') \n",
    "plt.ylabel('Life Expectancy [in years]') \n",
    "plt.title('World Development in 2007') \n",
    "plt.xticks([1000,10000,100000], ['1k','10k','100k']) \n",
    "\n",
    "# Additional customizations \n",
    "plt.text(1600, 68, 'India') \n",
    "plt.text(4000, 78, 'China') \n",
    "\n",
    "# Add grid() call \n",
    " \n",
    "\n",
    "# Show the plot \n"
   ]
  },
  {
   "cell_type": "markdown",
   "metadata": {},
   "source": [
    "### Expected output\n",
    "![1](../data/MatplotlibImages/1.11-exercise12.png)"
   ]
  }
 ],
 "metadata": {
  "kernelspec": {
   "display_name": "Python 3",
   "language": "python",
   "name": "python3"
  },
  "language_info": {
   "codemirror_mode": {
    "name": "ipython",
    "version": 3
   },
   "file_extension": ".py",
   "mimetype": "text/x-python",
   "name": "python",
   "nbconvert_exporter": "python",
   "pygments_lexer": "ipython3",
   "version": "3.6.2"
  }
 },
 "nbformat": 4,
 "nbformat_minor": 2
}
