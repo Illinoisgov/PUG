{
 "cells": [
  {
   "cell_type": "markdown",
   "metadata": {},
   "source": [
    "# Intro to NumPy and Arrays \n",
    "Exercises based on DataCamp's Introduction to Python course  \n",
    "https://www.datacamp.com/courses/intro-to-python-for-data-science"
   ]
  },
  {
   "cell_type": "markdown",
   "metadata": {},
   "source": [
    "## Table of Contents\n",
    "1. [Create your first array](#Exercise-1---Create-your-first-array)\n",
    "2. [Run a calculation on an array](#Exercise-2---Run-a-calculation-on-an-array)\n",
    "3. [Calculate BMI from two arrays](#Exercise-3---Calculate-BMI-from-two-arrays)\n",
    "4. [Create a subset of an array](#Exercise-4---Create-a-subset-of-an-array)\n",
    "5. [Create a 2D array](#Exercise-5---Create-a-2D-array)\n",
    "6. [Create a subset of a 2D array](#Exercise-6---Create-a-subset-of-a-2D-array)\n",
    "7. [2D Artithmetic](#Exercise-7---2D-Arithmetic)\n",
    "8. [Average vs median](#Exercise-8---Average-vs-median)\n",
    "9. [Standard deviation and correlation](#Exercise-9---Standard-Deviation-and-Correlation)\n",
    "10. [Put it all together](#Exercise-10---Final-Exercise)"
   ]
  },
  {
   "cell_type": "markdown",
   "metadata": {},
   "source": [
    "## Exercise 1 - Create your first array\n",
    "- Back to [Table of Contents](#Table-of-Contents)\n",
    "- Import the **numpy** package as **np**, so that you can refer to numpy with np.   \n",
    "- Use **np.array()** to create a numpy array from **baseball**. Name this array **np_baseball**.  \n",
    "- Print out the type of **np_baseball** to check that you got it right. "
   ]
  },
  {
   "cell_type": "code",
   "execution_count": 8,
   "metadata": {
    "scrolled": false
   },
   "outputs": [
    {
     "name": "stdout",
     "output_type": "stream",
     "text": [
      "<class 'numpy.ndarray'>\n"
     ]
    }
   ],
   "source": [
    "# Create list baseball \n",
    "baseball = [180, 215, 210, 210, 188, 176, 209, 200] \n",
    "\n",
    "# Import the numpy package as np \n",
    "import numpy as np \n",
    "\n",
    "# Create a numpy array from baseball: np_baseball \n",
    "\n",
    "\n",
    "# Print out type of np_baseball ... note Python built-in function for print is print()\n"
   ]
  },
  {
   "cell_type": "markdown",
   "metadata": {},
   "source": [
    "**Expected output:**  \n",
    "`<class 'numpy.ndarray'>`"
   ]
  },
  {
   "cell_type": "markdown",
   "metadata": {},
   "source": [
    "## Exercise 2 - Run a calculation on an array\n",
    "- Back to [Table of Contents](#Table-of-Contents)\n",
    "- Create a **numpy** array from **height**. Name this new array **np_height**.\n",
    "- Print **np_height**. \n",
    "- Multiply **np_height** with **0.0254** to convert all height measurements from inches to meters. Store the new values in a new array, **np_height_m**. \n",
    "- Print out **np_height_m** and check if the output makes sense. "
   ]
  },
  {
   "cell_type": "code",
   "execution_count": 4,
   "metadata": {},
   "outputs": [
    {
     "name": "stdout",
     "output_type": "stream",
     "text": [
      "[74 74 72 72 73 69 69 71 76 71 73 73 74 74 69 70 72 73] \n",
      "\n",
      "[ 1.8796  1.8796  1.8288  1.8288  1.8542  1.7526  1.7526  1.8034  1.9304\n",
      "  1.8034  1.8542  1.8542  1.8796  1.8796  1.7526  1.778   1.8288  1.8542]\n"
     ]
    }
   ],
   "source": [
    "height = [74,74,72,72,73,69,69,71,76,71,73,73,74,74,69,70,72,73]\n",
    "\n",
    "# Create a numpy array from height: np_height \n",
    "\n",
    "\n",
    "# Print out np_height - note '\\n' is used for new line in this example\n",
    "print(np_height,'\\n') \n",
    "\n",
    "# Convert np_height to m: np_height_m \n",
    "\n",
    "\n",
    "# Print np_height_m \n"
   ]
  },
  {
   "cell_type": "markdown",
   "metadata": {},
   "source": [
    "**Expected output:**  \n",
    "`[74 74 72 72 73 69 69 71 76 71 73 73 74 74 69 70 72 73]`\n",
    "\n",
    "`[ 1.8796  1.8796  1.8288  1.8288  1.8542  1.7526  1.7526  1.8034  1.9304\n",
    "  1.8034  1.8542  1.8542  1.8796  1.8796  1.7526  1.778   1.8288  1.8542]`"
   ]
  },
  {
   "cell_type": "markdown",
   "metadata": {},
   "source": [
    "## Exercise 3 - Calculate BMI from two arrays\n",
    "- Back to [Table of Contents](#Table-of-Contents)\n",
    "- Create a **numpy** array from the **weight** list with the correct units.  Multiply by `0.453592` to go from pounds to kilograms.  Store the resultting **numpy** array as **np_weight_kg**.\n",
    "- Use **np_height_m** and **np_weight_kg**. to calculate the BMI of each player.  Use the following equation:  \n",
    "$BMI = \\frac{weight(kg)}{height(m)^2}$\n",
    "- Save the resulting **numpy** array as **bmi**.\n",
    "- Print out **bmi**"
   ]
  },
  {
   "cell_type": "code",
   "execution_count": 5,
   "metadata": {},
   "outputs": [
    {
     "name": "stdout",
     "output_type": "stream",
     "text": [
      "[ 23.11037639  27.60406069  28.48080465  28.48080465  24.80333518\n",
      "  25.99036864  30.86356276  27.89402921  28.11789135  25.10462629\n",
      "  24.80333518  23.7478741   23.75233129  20.54255679  26.58105883\n",
      "  26.54444207  26.71770722  24.93526781]\n"
     ]
    }
   ],
   "source": [
    "weight = [180,215,210,210,188,176,209,200,231,180,188,180,185,160,180,185,197,189]\n",
    "\n",
    "# Create array from weight with correct units: np_weight_kg \n",
    "\n",
    "\n",
    "# Calculate the BMI: bmi \n",
    "\n",
    "\n",
    "# Print out bmi \n"
   ]
  },
  {
   "cell_type": "markdown",
   "metadata": {},
   "source": [
    "**Expected output:**  \n",
    "`[ 23.11037639  27.60406069  28.48080465  28.48080465  24.80333518\n",
    "  25.99036864  30.86356276  27.89402921  28.11789135  25.10462629\n",
    "  24.80333518  23.7478741   23.75233129  20.54255679  26.58105883\n",
    "  26.54444207  26.71770722  24.93526781]`"
   ]
  },
  {
   "cell_type": "markdown",
   "metadata": {},
   "source": [
    "## Exercise 4 - Create a subset of an array\n",
    "- Back to [Table of Contents](#Table-of-Contents)\n",
    "- Create a boolean **numpy** array: the element of the array should be **True** if the corresponding baseball player's BMI is below 21. You can use the < operator for this. Name the array **light**. \n",
    "- Print the array **light**. \n",
    "- Print out a **numpy** array with the BMIs of all baseball players whose BMI is below 24. Use **light** inside square brackets to do a selection on the **bmi** array. "
   ]
  },
  {
   "cell_type": "code",
   "execution_count": 6,
   "metadata": {},
   "outputs": [
    {
     "name": "stdout",
     "output_type": "stream",
     "text": [
      "[ True False False False False False False False False False False  True\n",
      "  True  True False False False False] \n",
      "\n",
      "[ 23.11037639  23.7478741   23.75233129  20.54255679]\n"
     ]
    }
   ],
   "source": [
    "# Create the light array \n",
    "\n",
    "\n",
    "# Print out light \n",
    "print(light,'\\n') \n",
    "\n",
    "# Print out BMIs of all baseball players whose BMI is below 24 - notice light is used as an index in print()\n",
    "print(bmi[light]) "
   ]
  },
  {
   "cell_type": "markdown",
   "metadata": {},
   "source": [
    "**Expected output:**  \n",
    "`[ True False False False False False False False False False False  True\n",
    "  True  True False False False False]`\n",
    "\n",
    "`[ 23.11037639  23.7478741   23.75233129  20.54255679]`"
   ]
  },
  {
   "cell_type": "markdown",
   "metadata": {},
   "source": [
    "## Exercise 5 - Create a 2D array\n",
    "- Back to [Table of Contents](#Table-of-Contents)\n",
    "- Use **np.array()** to create a 2D **numpy** array from **baseball**. Name it **np_baseball**. \n",
    "- Print out the type of **np_baseball**. \n",
    "- Print out the **shape** attribute of **np_baseball**. Use **np_baseball.shape**. "
   ]
  },
  {
   "cell_type": "code",
   "execution_count": 7,
   "metadata": {},
   "outputs": [
    {
     "name": "stdout",
     "output_type": "stream",
     "text": [
      "<class 'numpy.ndarray'>\n",
      "(5, 3)\n"
     ]
    }
   ],
   "source": [
    "# Create baseball, a list of lists \n",
    "baseball = [[180, 73.0, 22], \n",
    "            [215, 74.1, 33], \n",
    "            [210, 75.8, 40], \n",
    "            [188, 70.3, 26],\n",
    "            [200, 71.2, 31]]\n",
    "\n",
    "# Create a 2D numpy array from baseball: np_baseball - note the same method is used as a 1D array\n",
    "\n",
    "# Print out the type of np_baseball \n",
    "\n",
    "\n",
    "# Print out the shape of np_baseball \n"
   ]
  },
  {
   "cell_type": "markdown",
   "metadata": {},
   "source": [
    "**Expected output:**  \n",
    "`<class 'numpy.ndarray'>\n",
    "(5, 3)`"
   ]
  },
  {
   "cell_type": "markdown",
   "metadata": {
    "collapsed": true
   },
   "source": [
    "## Exercise 6 - Create a subset of a 2D array\n",
    "- Back to [Table of Contents](#Table-of-Contents)\n",
    "- Print out the 5th row of **np_baseball**. \n",
    "- Make a new variable, **np_weight**, containing the entire second column of **np_baseball**.\n",
    "- Select the height (first column) of the 2nd baseball player in **np_baseball** and print it out. "
   ]
  },
  {
   "cell_type": "code",
   "execution_count": 8,
   "metadata": {},
   "outputs": [
    {
     "name": "stdout",
     "output_type": "stream",
     "text": [
      "[ 200.    71.2   31. ] \n",
      "\n",
      "74.1\n"
     ]
    }
   ],
   "source": [
    "# Print out the 5th row of np_baseball \n",
    "\n",
    "\n",
    "# Select the entire second column of np_baseball: np_weight \n",
    "\n",
    "\n",
    "# Print out height of 2nd player \n"
   ]
  },
  {
   "cell_type": "markdown",
   "metadata": {},
   "source": [
    "**Expected output:**  \n",
    "`[ 200.    71.2   31. ]`  \n",
    "\n",
    "`74.1`"
   ]
  },
  {
   "cell_type": "markdown",
   "metadata": {},
   "source": [
    "## Exercise 7 - 2D Arithmetic\n",
    "- Back to [Table of Contents](#Table-of-Contents)\n",
    "- You managed to get hold of the changes in weight, height and age of all baseball players. It is available as a 2D **numpy** array, **updated**. Add **np_baseball** and **updated** and print out the result. \n",
    "- You want to convert the units of height and weight. As a first step, create a **numpy** array with three values: **0.0254**, **0.453592** and **1**. Name this array **conversion**. \n",
    "- Multiply **np_baseball** with **conversion** and print out the result. "
   ]
  },
  {
   "cell_type": "code",
   "execution_count": 9,
   "metadata": {},
   "outputs": [
    {
     "name": "stdout",
     "output_type": "stream",
     "text": [
      "[[ 177.    73.    23. ]\n",
      " [ 225.    74.1   34. ]\n",
      " [ 210.    75.8   41. ]\n",
      " [ 173.    70.3   27. ]\n",
      " [ 223.    71.2   32. ]] \n",
      "\n",
      "[[  4.572      33.112216   22.       ]\n",
      " [  5.461      33.6111672  33.       ]\n",
      " [  5.334      34.3822736  40.       ]\n",
      " [  4.7752     31.8875176  26.       ]\n",
      " [  5.08       32.2957504  31.       ]]\n"
     ]
    }
   ],
   "source": [
    "updated = [[-3, 0, 1], \n",
    "           [10, 0, 1], \n",
    "           [0, 0, 1], \n",
    "           [-15, 0, 1],\n",
    "           [23, 0, 1]]\n",
    "\n",
    "\n",
    "# Print out addition of np_baseball and updated \n",
    "print(np_baseball+updated,'\\n') \n",
    "\n",
    "# Create numpy array: conversion \n",
    "\n",
    "# Print out product of np_baseball and conversion \n"
   ]
  },
  {
   "cell_type": "markdown",
   "metadata": {},
   "source": [
    "**Expected output:**  \n",
    "`[[ 177.    73.    23. ]\n",
    " [ 225.    74.1   34. ]\n",
    " [ 210.    75.8   41. ]\n",
    " [ 173.    70.3   27. ]\n",
    " [ 223.    71.2   32. ]]`\n",
    "\n",
    "`[[  4.572      33.112216   22.       ]\n",
    " [  5.461      33.6111672  33.       ]\n",
    " [  5.334      34.3822736  40.       ]\n",
    " [  4.7752     31.8875176  26.       ]\n",
    " [  5.08       32.2957504  31.       ]]`"
   ]
  },
  {
   "cell_type": "markdown",
   "metadata": {},
   "source": [
    "## Exercise 8 - Average vs median\n",
    "- Back to [Table of Contents](#Table-of-Contents)\n",
    "- Create **numpy** array **np_height** that is equal to first column of **np_baseball**. \n",
    "- Print out the mean of **np_height**. \n",
    "- Print out the median of **np_height**. "
   ]
  },
  {
   "cell_type": "code",
   "execution_count": 10,
   "metadata": {},
   "outputs": [
    {
     "name": "stdout",
     "output_type": "stream",
     "text": [
      "Mean: 198.6\n",
      "Median: 200.0\n"
     ]
    }
   ],
   "source": [
    "# Create np_height from np_baseball \n",
    " \n",
    "\n",
    "# Print out the mean of np_height - note mean is a method of np\n",
    "\n",
    "\n",
    "# Print out the median of np_height - note median is a method of np\n"
   ]
  },
  {
   "cell_type": "markdown",
   "metadata": {},
   "source": [
    "**Expected output:**  \n",
    "`Mean: 198.6`  \n",
    "`Median: 200.0`"
   ]
  },
  {
   "cell_type": "markdown",
   "metadata": {},
   "source": [
    "## Exercise 9 - Standard Deviation and Correlation\n",
    "- Back to [Table of Contents](#Table-of-Contents)\n",
    "- The code to print out the mean height is already included. Complete the code for the median height. Replace **None** with the correct code. \n",
    "- Use **np.std()** on the first column of **np_baseball** to calculate **stddev**. Replace **None** with the correct code. \n",
    "- Do big players tend to be heavier? Use **np.corrcoef()** to store the correlation between the first and second column of **np_baseball** in **corr**. Replace **None** with the correct code. "
   ]
  },
  {
   "cell_type": "code",
   "execution_count": 11,
   "metadata": {},
   "outputs": [
    {
     "name": "stdout",
     "output_type": "stream",
     "text": [
      "Average: 198.6\n",
      "Median: 200.0\n",
      "Standard Deviation: 13.1087756865\n",
      "Correlation: [[ 1.          0.58749316]\n",
      " [ 0.58749316  1.        ]]\n"
     ]
    }
   ],
   "source": [
    "# Print mean height (first column) \n",
    "avg = np.mean(np_baseball[:,0]) \n",
    "\n",
    "\n",
    "# Print median height. \n",
    "\n",
    "\n",
    "\n",
    "# Print out the standard deviation on height. \n",
    "\n",
    "\n",
    "# Print out correlation between first and second column. Replace 'None' \n"
   ]
  },
  {
   "cell_type": "markdown",
   "metadata": {},
   "source": [
    "**Expected output:**  \n",
    "`Average: 198.6`  \n",
    "`Median: 200.0`  \n",
    "`Standard Deviation: 13.1087756865`  \n",
    "`Correlation: [[ 1.          0.58749316]  \n",
    " [ 0.58749316  1.        ]]`  "
   ]
  },
  {
   "cell_type": "markdown",
   "metadata": {},
   "source": [
    "## Exercise 10 - Final Exercise\n",
    "- Back to [Table of Contents](#Table-of-Contents)\n",
    "- Convert **heights** and **positions**, which are regular lists, to numpy arrays. Call them **np_heights** and **np_positions**. \n",
    "- Extract all the heights of the goalkeepers. You can use a little trick here: use **np_positions == 'GK'** as an index for **np_heights**. Assign the result to **gk_heights**. \n",
    "- Extract all the heights of all the other players. This time use **np_positions != 'GK'** as an index for **np_heights**. Assign the result to **other_heights**. \n",
    "- Print out the median height of the goalkeepers using **np.median()**. Replace **None** with the correct code. \n",
    "- Do the same for the other players. Print out their median height. Replace **None** with the correct code. "
   ]
  },
  {
   "cell_type": "code",
   "execution_count": 12,
   "metadata": {},
   "outputs": [
    {
     "name": "stdout",
     "output_type": "stream",
     "text": [
      "Median height of goalkeepers: 191.0\n",
      "Median height of other players: 200.0\n"
     ]
    }
   ],
   "source": [
    "positions = ['GK', 'M', 'A', 'D', 'GK', 'M', 'A', 'GK']\n",
    "heights = [191, 200, 180, 201, 177, 181, 202, 199]\n",
    "\n",
    "# Convert positions and heights to numpy arrays: np_positions, np_heights \n",
    "\n",
    "\n",
    "# Heights of the goalkeepers: gk_heights \n",
    "\n",
    "\n",
    "# Heights of the other players: other_heights \n",
    "\n",
    "\n",
    "# Print out the median height of goalkeepers. Replace 'None' \n",
    "\n",
    "\n",
    "# Print out the median height of other players. Replace 'None' \n"
   ]
  },
  {
   "cell_type": "markdown",
   "metadata": {},
   "source": [
    "**Expected output:**  \n",
    "`Median height of goalkeepers: 191.0`  \n",
    "`Median height of other players: 200.0`"
   ]
  }
 ],
 "metadata": {
  "kernelspec": {
   "display_name": "Python 3",
   "language": "python",
   "name": "python3"
  },
  "language_info": {
   "codemirror_mode": {
    "name": "ipython",
    "version": 3
   },
   "file_extension": ".py",
   "mimetype": "text/x-python",
   "name": "python",
   "nbconvert_exporter": "python",
   "pygments_lexer": "ipython3",
   "version": "3.6.2"
  }
 },
 "nbformat": 4,
 "nbformat_minor": 2
}
